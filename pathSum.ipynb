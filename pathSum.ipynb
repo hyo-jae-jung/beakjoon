{
 "cells": [
  {
   "cell_type": "code",
   "execution_count": 1,
   "metadata": {},
   "outputs": [
    {
     "name": "stdout",
     "output_type": "stream",
     "text": [
      "7 \n",
      "-2 5 \n",
      "3 15 8 -1 \n"
     ]
    }
   ],
   "source": [
    "from collections import deque\n",
    "\n",
    "class TreeNode:\n",
    "  def __init__(self, val):\n",
    "    self.val = val\n",
    "    self.left = None\n",
    "    self.right = None\n",
    "\n",
    "root = TreeNode(7)\n",
    "node2n = TreeNode(-2)\n",
    "node5 = TreeNode(5)\n",
    "node3 = TreeNode(3)\n",
    "node15 = TreeNode(15)\n",
    "node8 = TreeNode(8)\n",
    "node5n = TreeNode(-1)\n",
    "\n",
    "root.left = node2n\n",
    "root.right = node5\n",
    "node2n.left = node3\n",
    "node2n.right = node15\n",
    "node5.left = node8\n",
    "node5.right = node5n\n",
    "\n",
    "def treeLevelPrint(node):\n",
    "  if node is None:\n",
    "    return\n",
    "  q = deque()\n",
    "  q.append(node)\n",
    "  while 0<len(q):\n",
    "    level_count = len(q)\n",
    "    for _ in range(level_count):\n",
    "      crnt_node = q.popleft()\n",
    "      print(crnt_node.val, end = ' ')\n",
    "      if crnt_node.left:\n",
    "        q.append(crnt_node.left)\n",
    "      if crnt_node.right:\n",
    "        q.append(crnt_node.right)\n",
    "    print('')\n",
    "\n",
    "treeLevelPrint(root)"
   ]
  }
 ],
 "metadata": {
  "kernelspec": {
   "display_name": "Python 3",
   "language": "python",
   "name": "python3"
  },
  "language_info": {
   "name": "python",
   "version": "3.8.10 (default, Nov 14 2022, 12:59:47) \n[GCC 9.4.0]"
  },
  "orig_nbformat": 4,
  "vscode": {
   "interpreter": {
    "hash": "916dbcbb3f70747c44a77c7bcd40155683ae19c65e1c03b4aa3499c5328201f1"
   }
  }
 },
 "nbformat": 4,
 "nbformat_minor": 2
}
