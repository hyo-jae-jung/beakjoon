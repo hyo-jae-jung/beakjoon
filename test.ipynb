{
 "cells": [
  {
   "cell_type": "code",
   "execution_count": 1,
   "metadata": {},
   "outputs": [
    {
     "name": "stdout",
     "output_type": "stream",
     "text": [
      "155117520.0\n"
     ]
    }
   ],
   "source": [
    "%timeit\n",
    "from math import factorial as f\n",
    "print(f(30)/(f(15)*f(30-15)))"
   ]
  },
  {
   "cell_type": "code",
   "execution_count": 8,
   "metadata": {},
   "outputs": [
    {
     "name": "stdout",
     "output_type": "stream",
     "text": [
      "데코레이터는 어렵지 않아요.\n"
     ]
    },
    {
     "data": {
      "text/plain": [
       "'***안녕하세요!***'"
      ]
     },
     "execution_count": 8,
     "metadata": {},
     "output_type": "execute_result"
    }
   ],
   "source": [
    "#아주 간단한 테코레이터 만들기\n",
    "\n",
    "def easy_decorator(func):\n",
    "    print(\"데코레이터는 어렵지 않아요.\")\n",
    "    return func\n",
    "\n",
    "@easy_decorator\n",
    "def printt(text):\n",
    "    return \"***{}***\".format(text)\n",
    "\n",
    "printt('안녕하세요!')"
   ]
  }
 ],
 "metadata": {
  "kernelspec": {
   "display_name": "Python 3",
   "language": "python",
   "name": "python3"
  },
  "language_info": {
   "codemirror_mode": {
    "name": "ipython",
    "version": 3
   },
   "file_extension": ".py",
   "mimetype": "text/x-python",
   "name": "python",
   "nbconvert_exporter": "python",
   "pygments_lexer": "ipython3",
   "version": "3.8.10"
  },
  "orig_nbformat": 4,
  "vscode": {
   "interpreter": {
    "hash": "e7370f93d1d0cde622a1f8e1c04877d8463912d04d973331ad4851f04de6915a"
   }
  }
 },
 "nbformat": 4,
 "nbformat_minor": 2
}
